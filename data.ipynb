{
 "cells": [
  {
   "cell_type": "code",
   "execution_count": 12,
   "metadata": {},
   "outputs": [
    {
     "name": "stdout",
     "output_type": "stream",
     "text": [
      "Inserted user: User_1\n",
      "Inserted user: User_2\n",
      "Inserted user: User_3\n",
      "Inserted user: User_4\n",
      "Inserted user: User_5\n",
      "Inserted user: User_6\n",
      "Inserted user: User_7\n",
      "Inserted user: User_8\n",
      "Inserted user: User_9\n",
      "Inserted user: User_10\n",
      "Inserted user: User_11\n",
      "Inserted user: User_12\n",
      "Inserted user: User_13\n",
      "Inserted user: User_14\n",
      "Inserted user: User_15\n",
      "Inserted user: User_16\n",
      "Inserted user: User_17\n",
      "Inserted user: User_18\n",
      "Inserted user: User_19\n",
      "Inserted user: User_20\n",
      "Dummy data generation complete!\n"
     ]
    }
   ],
   "source": [
    "from pymongo import MongoClient\n",
    "import random\n",
    "import string\n",
    "# Function to generate random strings for name and password fields\n",
    "def generate_random_string(length):\n",
    "    return ''.join(random.choices(string.ascii_letters + string.digits, k=length))\n",
    "\n",
    "client = MongoClient('localhost',27017)\n",
    "\n",
    "db = client.mydb\n",
    "\n",
    "users = db.users\n",
    "for i in range(1, 21):\n",
    "    new_user = {\n",
    "        'id': i,\n",
    "        'name': f'User_{i}',\n",
    "        'email': f'user{i}@example.com',\n",
    "        'password': generate_random_string(10),  # Generating a random 10-character password\n",
    "    }\n",
    "    users.insert_one(new_user)\n",
    "    print(f'Inserted user: {new_user[\"name\"]}')\n",
    "\n",
    "print('Dummy data generation complete!')\n",
    "\n",
    "\n",
    "\n",
    "\n",
    "\n"
   ]
  }
 ],
 "metadata": {
  "kernelspec": {
   "display_name": "CRUD_flask",
   "language": "python",
   "name": "python3"
  },
  "language_info": {
   "codemirror_mode": {
    "name": "ipython",
    "version": 3
   },
   "file_extension": ".py",
   "mimetype": "text/x-python",
   "name": "python",
   "nbconvert_exporter": "python",
   "pygments_lexer": "ipython3",
   "version": "3.9.16"
  },
  "orig_nbformat": 4
 },
 "nbformat": 4,
 "nbformat_minor": 2
}
